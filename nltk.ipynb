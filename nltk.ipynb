{
 "cells": [
  {
   "cell_type": "markdown",
   "id": "667e6e58",
   "metadata": {},
   "source": [
    "# Imports"
   ]
  },
  {
   "cell_type": "code",
   "execution_count": 1,
   "id": "33f1feb5",
   "metadata": {},
   "outputs": [
    {
     "name": "stderr",
     "output_type": "stream",
     "text": [
      "[nltk_data] Downloading package omw-1.4 to\n",
      "[nltk_data]     C:\\Users\\CJ\\AppData\\Roaming\\nltk_data...\n",
      "[nltk_data]   Package omw-1.4 is already up-to-date!\n",
      "[nltk_data] Downloading package punkt to\n",
      "[nltk_data]     C:\\Users\\CJ\\AppData\\Roaming\\nltk_data...\n",
      "[nltk_data]   Package punkt is already up-to-date!\n",
      "[nltk_data] Downloading package stopwords to\n",
      "[nltk_data]     C:\\Users\\CJ\\AppData\\Roaming\\nltk_data...\n",
      "[nltk_data]   Package stopwords is already up-to-date!\n",
      "[nltk_data] Downloading package wordnet to\n",
      "[nltk_data]     C:\\Users\\CJ\\AppData\\Roaming\\nltk_data...\n",
      "[nltk_data]   Package wordnet is already up-to-date!\n"
     ]
    },
    {
     "data": {
      "text/plain": [
       "True"
      ]
     },
     "execution_count": 1,
     "metadata": {},
     "output_type": "execute_result"
    }
   ],
   "source": [
    "import nltk\n",
    "import pandas as pd\n",
    "\n",
    "nltk.download('omw-1.4')\n",
    "nltk.download('punkt')\n",
    "nltk.download('stopwords')\n",
    "nltk.download('wordnet')"
   ]
  },
  {
   "cell_type": "markdown",
   "id": "8d977bf6",
   "metadata": {},
   "source": [
    "# Load Data"
   ]
  },
  {
   "cell_type": "code",
   "execution_count": 2,
   "id": "ed403115",
   "metadata": {},
   "outputs": [],
   "source": [
    "def load_csv(filename, clickbait):\n",
    "    df = pd.read_csv(filename)\n",
    "    df.drop_duplicates(subset='url', inplace=True)\n",
    "    df['title'] = df['title'].str.lower().str.strip()\n",
    "    df['title'] = df['title'].str.split('https://url4ever.com').str[0].str.strip()\n",
    "    df['title'] = df['title'].str.split('- reuters').str[0].str.strip()\n",
    "    \n",
    "    autonp_prefixes = ['[economy] -', '[arts] -', '[op-ed] -', '[national] -', '[world] -', '[politics] -', '[local] -', '[video] -', '[sports] -', '[business] -', '[entertainment] -', '[tech] -', '[science] -', '[health] -']\n",
    "    df['title'] = df['title'].apply(lambda x: presplit(x, autonp_prefixes))\n",
    "    autonp_postfixes = ['| pbs', '| cnn', '| sydney morning herald', '| chicago tribune', '| chicago sun-times', 'la times', 'iol', '| al jazeera', '| washington post', '| toronto star', '| telegraph', '| bbc', '| south china morning post', '| npr', '| guardian', '| the japan times', '| abc', '| fox', '| al arabiya', '| nbc', '| irish times', '| manila bulletin', '| nz herald', '| times of india', '| sana', '| usatoday', '| nypost']\n",
    "    df['title'] = df['title'].apply(lambda x: postsplit(x, autonp_postfixes))\n",
    "    \n",
    "    ap_prefixes = ['(ap:)', 'ap report:', 'ap investigation:', 'ap poll:', 'ap analysis:', 'ap sources:', 'ap source:', 'ap fact check:', '[ap news]', 'ap photos:', 'ap news:', 'ap:', 'ap interview:', 'the ap interview:']\n",
    "    df['title'] = df['title'].apply(lambda x: presplit(x, ap_prefixes))\n",
    "    ap_postfixes = ['- associated press', '| ap news', '| february 24, 2021', '[ap]', '(ap)']\n",
    "    df['title'] = df['title'].apply(lambda x: postsplit(x, ap_postfixes))\n",
    "    \n",
    "    other_prefixes = ['news brief:', 'bbc:', 'watch:', 'reuters:', 'watch live:', 'breaking:', 'the latest:']\n",
    "    df['title'] = df['title'].apply(lambda x: presplit(x, other_prefixes))\n",
    "    other_postfixes = []\n",
    "    df['title'] = df['title'].apply(lambda x: postsplit(x, other_postfixes))\n",
    "    \n",
    "    banned = ['reuters', 'pbs', 'npr', 'apnews', 'associated press', 'savedyouaclick']\n",
    "    for term in banned:\n",
    "        df = df[df['title'].str.contains(term, regex=False) == False]\n",
    "    \n",
    "    df = df[['created_utc', 'title', 'score']]\n",
    "    df['created_utc'] = pd.to_datetime(df['created_utc'], unit='s')\n",
    "    df['clickbait'] = clickbait\n",
    "    \n",
    "    return df\n",
    "\n",
    "def presplit(title, prefixes):\n",
    "    for pre in prefixes:\n",
    "        if title.startswith(pre):\n",
    "            return title.split(pre)[1].strip()\n",
    "    \n",
    "    return title\n",
    "    \n",
    "def postsplit(title, postfixes):\n",
    "    for post in postfixes:\n",
    "        if title.endswith(post):\n",
    "            return title.split(post)[0].strip()\n",
    "    \n",
    "    return title"
   ]
  },
  {
   "cell_type": "code",
   "execution_count": 3,
   "id": "283b445f",
   "metadata": {
    "scrolled": false
   },
   "outputs": [],
   "source": [
    "clickbait = load_csv('clickbait.csv.gz', 1)\n",
    "clickbait = clickbait[clickbait['title'].str.contains('|', regex=False)]\n",
    "clickbait['title'] = clickbait['title'].str.split('|').str[0].str.strip()\n",
    "clickbait.drop_duplicates(subset='title', inplace=True)\n",
    "\n",
    "#clickbait = clickbait[clickbait['score'] > 10]\n",
    "#display(clickbait)\n",
    "\n",
    "apnews = load_csv('apnews.csv.gz', 0)\n",
    "apnews = apnews[apnews['title'].str.contains('ap poll', regex=False) == False]\n",
    "apnews.drop_duplicates(subset='title', inplace=True)\n",
    "\n",
    "reuters = load_csv('reuters.csv.gz', 0)\n",
    "reuters.drop_duplicates(subset='title', inplace=True)\n",
    "\n",
    "npr = load_csv('npr.csv.gz', 0)\n",
    "npr.drop_duplicates(subset='title', inplace=True)\n",
    "\n",
    "pbs = load_csv('pbs.csv.gz', 0)\n",
    "pbs.drop_duplicates(subset='title', inplace=True)\n",
    "\n",
    "news = pd.concat([apnews, reuters, npr, pbs], ignore_index=True)\n",
    "#news = news[news['score'] > 10]\n",
    "#display(news)\n",
    "\n",
    "clickbait = clickbait.sample(min(clickbait.shape[0], news.shape[0]))\n",
    "news = news.sample(min(clickbait.shape[0], news.shape[0]))\n",
    "\n",
    "#display(clickbait)\n",
    "#display(news)"
   ]
  },
  {
   "cell_type": "code",
   "execution_count": 4,
   "id": "176b4534",
   "metadata": {},
   "outputs": [
    {
     "data": {
      "text/html": [
       "<div>\n",
       "<style scoped>\n",
       "    .dataframe tbody tr th:only-of-type {\n",
       "        vertical-align: middle;\n",
       "    }\n",
       "\n",
       "    .dataframe tbody tr th {\n",
       "        vertical-align: top;\n",
       "    }\n",
       "\n",
       "    .dataframe thead th {\n",
       "        text-align: right;\n",
       "    }\n",
       "</style>\n",
       "<table border=\"1\" class=\"dataframe\">\n",
       "  <thead>\n",
       "    <tr style=\"text-align: right;\">\n",
       "      <th></th>\n",
       "      <th>title</th>\n",
       "      <th>clickbait</th>\n",
       "    </tr>\n",
       "  </thead>\n",
       "  <tbody>\n",
       "    <tr>\n",
       "      <th>0</th>\n",
       "      <td>how high can runaway helium balloons fly?</td>\n",
       "      <td>1</td>\n",
       "    </tr>\n",
       "    <tr>\n",
       "      <th>1</th>\n",
       "      <td>guy pours salt on the beach, what comes out is...</td>\n",
       "      <td>1</td>\n",
       "    </tr>\n",
       "    <tr>\n",
       "      <th>2</th>\n",
       "      <td>what alex from target is doing now is unbeliev...</td>\n",
       "      <td>1</td>\n",
       "    </tr>\n",
       "    <tr>\n",
       "      <th>3</th>\n",
       "      <td>uno just officially declared this popular move...</td>\n",
       "      <td>1</td>\n",
       "    </tr>\n",
       "    <tr>\n",
       "      <th>4</th>\n",
       "      <td>look what happens when you shred toilet paper!</td>\n",
       "      <td>1</td>\n",
       "    </tr>\n",
       "    <tr>\n",
       "      <th>...</th>\n",
       "      <td>...</td>\n",
       "      <td>...</td>\n",
       "    </tr>\n",
       "    <tr>\n",
       "      <th>10747</th>\n",
       "      <td>8 reasons why men are so much in love with bre...</td>\n",
       "      <td>1</td>\n",
       "    </tr>\n",
       "    <tr>\n",
       "      <th>10748</th>\n",
       "      <td>busboy who held dying robert f. kennedy shares...</td>\n",
       "      <td>1</td>\n",
       "    </tr>\n",
       "    <tr>\n",
       "      <th>10749</th>\n",
       "      <td>you’ll never guess where dolly parton likes to...</td>\n",
       "      <td>1</td>\n",
       "    </tr>\n",
       "    <tr>\n",
       "      <th>10750</th>\n",
       "      <td>the least stressful jobs of 2015</td>\n",
       "      <td>1</td>\n",
       "    </tr>\n",
       "    <tr>\n",
       "      <th>10751</th>\n",
       "      <td>why your grandparents didn’t have food allergi...</td>\n",
       "      <td>1</td>\n",
       "    </tr>\n",
       "  </tbody>\n",
       "</table>\n",
       "<p>10752 rows × 2 columns</p>\n",
       "</div>"
      ],
      "text/plain": [
       "                                                   title  clickbait\n",
       "0              how high can runaway helium balloons fly?          1\n",
       "1      guy pours salt on the beach, what comes out is...          1\n",
       "2      what alex from target is doing now is unbeliev...          1\n",
       "3      uno just officially declared this popular move...          1\n",
       "4         look what happens when you shred toilet paper!          1\n",
       "...                                                  ...        ...\n",
       "10747  8 reasons why men are so much in love with bre...          1\n",
       "10748  busboy who held dying robert f. kennedy shares...          1\n",
       "10749  you’ll never guess where dolly parton likes to...          1\n",
       "10750                   the least stressful jobs of 2015          1\n",
       "10751  why your grandparents didn’t have food allergi...          1\n",
       "\n",
       "[10752 rows x 2 columns]"
      ]
     },
     "metadata": {},
     "output_type": "display_data"
    }
   ],
   "source": [
    "data = pd.concat([clickbait, news], ignore_index=True)\n",
    "data = data[data['score'] > 10]\n",
    "data = data[['title', 'clickbait']]\n",
    "data = data.sample(frac=1, ignore_index=True)\n",
    "display(data)"
   ]
  }
 ],
 "metadata": {
  "kernelspec": {
   "display_name": "Python 3 (ipykernel)",
   "language": "python",
   "name": "python3"
  },
  "language_info": {
   "codemirror_mode": {
    "name": "ipython",
    "version": 3
   },
   "file_extension": ".py",
   "mimetype": "text/x-python",
   "name": "python",
   "nbconvert_exporter": "python",
   "pygments_lexer": "ipython3",
   "version": "3.10.2"
  }
 },
 "nbformat": 4,
 "nbformat_minor": 5
}
