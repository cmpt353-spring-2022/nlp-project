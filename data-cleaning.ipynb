{
 "cells": [
  {
   "cell_type": "markdown",
   "id": "0b80fe19",
   "metadata": {},
   "source": [
    "# Imports"
   ]
  },
  {
   "cell_type": "code",
   "execution_count": 1,
   "id": "657d5c36",
   "metadata": {},
   "outputs": [],
   "source": [
    "import pandas as pd"
   ]
  },
  {
   "cell_type": "markdown",
   "id": "95a8f2c2",
   "metadata": {},
   "source": [
    "# Load Data"
   ]
  },
  {
   "cell_type": "code",
   "execution_count": 2,
   "id": "78937972",
   "metadata": {},
   "outputs": [],
   "source": [
    "def load_csv(filename, clickbait):\n",
    "    df = pd.read_csv(filename)\n",
    "    df.drop_duplicates(subset='url', inplace=True)\n",
    "    df['title'] = df['title'].str.lower().str.strip()\n",
    "    \n",
    "    regex_prefixes = ['^(?:\\[)(.*)(?:\\])(.?)-', 'https:\\/\\/url4ever.com(.*)$']\n",
    "    for reg in regex_prefixes:\n",
    "        df['title'].replace(reg, '', inplace=True, regex=True)\n",
    "    \n",
    "    news_orgs = ['espn', 'bbc', 'huffpo', 'nyt', 'reuters', 'ap news', 'associated press', 'pbs newshour', 'pbs', 'cnn', 'sydney morning herald', 'chicago tribune', 'chicago sun-times', 'la times', 'iol', 'al jazeera', 'washington post', 'toronto star', 'telegraph', 'bbc', 'south china morning post', 'npr', 'guardian', 'the japan times', 'abc', 'fox', 'al arabiya', 'nbc', 'irish times', 'manila bulletin', 'nz herald', 'times of india', 'sana', 'usatoday', 'nypost']\n",
    "    for org in news_orgs:\n",
    "        df['title'].replace('\\|(.?)' + org + '(.*)$', '', inplace=True, regex=True)\n",
    "        df['title'].replace('-(.?)' + org + '(.*)$', '', inplace=True, regex=True)\n",
    "        df['title'].replace('^' + org + '(.*):', '', inplace=True, regex=True)\n",
    "    \n",
    "    df['title'] = df['title'].str.strip()\n",
    "    \n",
    "    ap_prefixes = ['[ap]', '(ap:)', '[ap news]']\n",
    "    df['title'] = df['title'].apply(lambda x: presplit(x, ap_prefixes))\n",
    "    ap_postfixes = ['| february 24, 2021', '[ap]', '(ap)']\n",
    "    df['title'] = df['title'].apply(lambda x: postsplit(x, ap_postfixes))\n",
    "    \n",
    "    other_prefixes = ['[salon]', '[forbes]', 'news wrap:', 'authorities:', 'officials:', 'news brief:', 'watch:', 'watch live:', 'breaking:', 'the latest:']\n",
    "    df['title'] = df['title'].apply(lambda x: presplit(x, other_prefixes))\n",
    "    other_postfixes = []\n",
    "    df['title'] = df['title'].apply(lambda x: postsplit(x, other_postfixes))\n",
    "    \n",
    "    df = df[df['title'].str.contains('savedyouaclick', regex=False) == False]\n",
    "    \n",
    "    df.drop_duplicates(subset='title', inplace=True)\n",
    "    df = df[['created_utc', 'title', 'score']]\n",
    "    df['created_utc'] = pd.to_datetime(df['created_utc'], unit='s')\n",
    "    df['clickbait'] = clickbait\n",
    "    \n",
    "    return df\n",
    "\n",
    "def presplit(title, prefixes):\n",
    "    for pre in prefixes:\n",
    "        if title.startswith(pre):\n",
    "            return title.split(pre)[1].strip()\n",
    "    \n",
    "    return title\n",
    "    \n",
    "def postsplit(title, postfixes):\n",
    "    for post in postfixes:\n",
    "        if title.endswith(post):\n",
    "            return title.split(post)[0].strip()\n",
    "    \n",
    "    return title"
   ]
  },
  {
   "cell_type": "code",
   "execution_count": 3,
   "id": "06f31848",
   "metadata": {
    "scrolled": false
   },
   "outputs": [],
   "source": [
    "# load clickbait sources\n",
    "clickbait = load_csv('data/clickbait.csv.gz', 1)\n",
    "clickbait = clickbait[clickbait['title'].str.contains('|', regex=False)]\n",
    "clickbait['title'] = clickbait['title'].str.split('|').str[0].str.strip()\n",
    "clickbait.drop_duplicates(subset='title', inplace=True)\n",
    "clickbait = clickbait[clickbait[\"title\"].notna()]\n",
    "clickbait = clickbait[clickbait['score'] > 10]\n",
    "#display(clickbait)\n",
    "\n",
    "# load non-clickbait sources\n",
    "apnews = load_csv('data/apnews.csv.gz', 0)\n",
    "npr = load_csv('data/npr.csv.gz', 0)\n",
    "pbs = load_csv('data/pbs.csv.gz', 0)\n",
    "reuters = load_csv('data/reuters.csv.gz', 0)\n",
    "news = pd.concat([apnews, reuters, npr, pbs], ignore_index=True)\n",
    "#display(news)\n",
    "\n",
    "# ensure balance between clickbait and non-clickbait entries\n",
    "clickbait = clickbait.sample(min(clickbait.shape[0], news.shape[0]), ignore_index=True)\n",
    "news = news.sample(min(clickbait.shape[0], news.shape[0]), ignore_index=True)\n",
    "#display(clickbait)\n",
    "#display(news)"
   ]
  },
  {
   "cell_type": "code",
   "execution_count": 4,
   "id": "ba4ef481",
   "metadata": {},
   "outputs": [
    {
     "data": {
      "text/html": [
       "<div>\n",
       "<style scoped>\n",
       "    .dataframe tbody tr th:only-of-type {\n",
       "        vertical-align: middle;\n",
       "    }\n",
       "\n",
       "    .dataframe tbody tr th {\n",
       "        vertical-align: top;\n",
       "    }\n",
       "\n",
       "    .dataframe thead th {\n",
       "        text-align: right;\n",
       "    }\n",
       "</style>\n",
       "<table border=\"1\" class=\"dataframe\">\n",
       "  <thead>\n",
       "    <tr style=\"text-align: right;\">\n",
       "      <th></th>\n",
       "      <th>title</th>\n",
       "      <th>clickbait</th>\n",
       "    </tr>\n",
       "  </thead>\n",
       "  <tbody>\n",
       "    <tr>\n",
       "      <th>0</th>\n",
       "      <td>jon hamm just came clean about his condition a...</td>\n",
       "      <td>1</td>\n",
       "    </tr>\n",
       "    <tr>\n",
       "      <th>1</th>\n",
       "      <td>forest whitaker's is playing a fan favorite ch...</td>\n",
       "      <td>1</td>\n",
       "    </tr>\n",
       "    <tr>\n",
       "      <th>2</th>\n",
       "      <td>why german divisions remain, 30 years after fa...</td>\n",
       "      <td>0</td>\n",
       "    </tr>\n",
       "    <tr>\n",
       "      <th>3</th>\n",
       "      <td>kim jong un is dangerous and a risk-taker, but...</td>\n",
       "      <td>0</td>\n",
       "    </tr>\n",
       "    <tr>\n",
       "      <th>4</th>\n",
       "      <td>nearly all mass shooters have this one thing i...</td>\n",
       "      <td>1</td>\n",
       "    </tr>\n",
       "    <tr>\n",
       "      <th>...</th>\n",
       "      <td>...</td>\n",
       "      <td>...</td>\n",
       "    </tr>\n",
       "    <tr>\n",
       "      <th>20745</th>\n",
       "      <td>how school administrators and parents are find...</td>\n",
       "      <td>0</td>\n",
       "    </tr>\n",
       "    <tr>\n",
       "      <th>20746</th>\n",
       "      <td>nasa released photos of jupiter and everyone i...</td>\n",
       "      <td>1</td>\n",
       "    </tr>\n",
       "    <tr>\n",
       "      <th>20747</th>\n",
       "      <td>typhoon in philippines leaves 13 missing, disp...</td>\n",
       "      <td>0</td>\n",
       "    </tr>\n",
       "    <tr>\n",
       "      <th>20748</th>\n",
       "      <td>twitter in standoff with india's government ov...</td>\n",
       "      <td>0</td>\n",
       "    </tr>\n",
       "    <tr>\n",
       "      <th>20749</th>\n",
       "      <td>apromore announces version 8 to further enable...</td>\n",
       "      <td>0</td>\n",
       "    </tr>\n",
       "  </tbody>\n",
       "</table>\n",
       "<p>20750 rows × 2 columns</p>\n",
       "</div>"
      ],
      "text/plain": [
       "                                                   title  clickbait\n",
       "0      jon hamm just came clean about his condition a...          1\n",
       "1      forest whitaker's is playing a fan favorite ch...          1\n",
       "2      why german divisions remain, 30 years after fa...          0\n",
       "3      kim jong un is dangerous and a risk-taker, but...          0\n",
       "4      nearly all mass shooters have this one thing i...          1\n",
       "...                                                  ...        ...\n",
       "20745  how school administrators and parents are find...          0\n",
       "20746  nasa released photos of jupiter and everyone i...          1\n",
       "20747  typhoon in philippines leaves 13 missing, disp...          0\n",
       "20748  twitter in standoff with india's government ov...          0\n",
       "20749  apromore announces version 8 to further enable...          0\n",
       "\n",
       "[20750 rows x 2 columns]"
      ]
     },
     "metadata": {},
     "output_type": "display_data"
    }
   ],
   "source": [
    "# combine clickbait and news datasets\n",
    "data = pd.concat([clickbait, news], ignore_index=True)\n",
    "data = data[['title', 'clickbait']]\n",
    "data = data.sample(frac=1, ignore_index=True)\n",
    "data.to_csv(\"data/filtered.csv.gz\", compression='gzip', index=False)\n",
    "\n",
    "display(data)"
   ]
  },
  {
   "cell_type": "code",
   "execution_count": 5,
   "id": "fadc415b",
   "metadata": {
    "scrolled": false
   },
   "outputs": [],
   "source": [
    "#for i in range(data.shape[0]):\n",
    "#    if \"[\" in data['title'].iloc[i]:\n",
    "#        print(data['title'].iloc[i] + '\\n')"
   ]
  },
  {
   "cell_type": "code",
   "execution_count": null,
   "id": "55fb7faf",
   "metadata": {},
   "outputs": [],
   "source": []
  }
 ],
 "metadata": {
  "kernelspec": {
   "display_name": "Python 3 (ipykernel)",
   "language": "python",
   "name": "python3"
  },
  "language_info": {
   "codemirror_mode": {
    "name": "ipython",
    "version": 3
   },
   "file_extension": ".py",
   "mimetype": "text/x-python",
   "name": "python",
   "nbconvert_exporter": "python",
   "pygments_lexer": "ipython3",
   "version": "3.10.2"
  }
 },
 "nbformat": 4,
 "nbformat_minor": 5
}
