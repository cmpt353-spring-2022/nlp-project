{
 "cells": [
  {
   "cell_type": "markdown",
   "id": "0b80fe19",
   "metadata": {},
   "source": [
    "# Imports"
   ]
  },
  {
   "cell_type": "code",
   "execution_count": null,
   "id": "657d5c36",
   "metadata": {},
   "outputs": [],
   "source": [
    "import pandas as pd"
   ]
  },
  {
   "cell_type": "markdown",
   "id": "95a8f2c2",
   "metadata": {},
   "source": [
    "# Load Data"
   ]
  },
  {
   "cell_type": "code",
   "execution_count": null,
   "id": "78937972",
   "metadata": {},
   "outputs": [],
   "source": [
    "def load_csv(filename, clickbait, threshold):\n",
    "    df = pd.read_csv(filename)\n",
    "    df.drop_duplicates(subset=['url', 'title'], inplace=True)\n",
    "    df['title'] = df['title'].str.lower().str.strip()\n",
    "    df['subreddit'] = df['subreddit'].str.lower().str.strip()\n",
    "    \n",
    "    subreddits = ['politics', 'worldnews', 'news', 'nottheonion', 'upliftingnews']\n",
    "    for sub in subreddits:\n",
    "        df = df[df['subreddit'] != sub]\n",
    "        \n",
    "    df['title'].replace('&amp;', 'and', inplace=True, regex=True)\n",
    "    \n",
    "    regs = ['\\.', ',', '^\\[ap news\\]', '^\\(ap:\\)', '^\\[ap\\]', '^(?:\\[)(.*)(?:\\])(.?)-', 'https:\\/\\/url4ever.com(.*)$']\n",
    "    for reg in regs:\n",
    "        df['title'].replace(reg, '', inplace=True, regex=True)\n",
    "    df['title'] = df['title'].str.strip()\n",
    "    \n",
    "    news_orgs = ['forbes', 'cnbc', 'espn', 'bbc', 'huffpo', 'nyt', 'reuters', 'ap news', 'associated press', 'pbs newshour', 'pbs', 'cnn', 'sydney morning herald', 'chicago tribune', 'chicago sun-times', 'la times', 'iol', 'al jazeera', 'washington post', 'toronto star', 'telegraph', 'bbc', 'south china morning post', 'npr', 'guardian', 'the japan times', 'abc', 'fox', 'al arabiya', 'nbc', 'irish times', 'manila bulletin', 'nz herald', 'times of india', 'ap', 'sana', 'usatoday', 'nypost']\n",
    "    for org in news_orgs:\n",
    "        df['title'].replace('\\|(.?)' + org + '(.*)$', '', inplace=True, regex=True)\n",
    "        df['title'].replace(':(.?)' + org + '(.*)$', '', inplace=True, regex=True)\n",
    "        df['title'].replace('-(.?)' + org + '(.*)$', '', inplace=True, regex=True)\n",
    "        df['title'].replace('^' + org + '(.*):', '', inplace=True, regex=True)\n",
    "        df['title'].replace('^breaking(.?)' + org + '(.?):', '', inplace=True, regex=True)\n",
    "    df['title'] = df['title'].str.strip()\n",
    "\n",
    "    other_prefixes = ['news:', 'exclusive:', 'breaking news:', 'the indicator:', 'opinion:', 'study:', 'poll:', 'special report:', 'report:', 'analysis:', 'alert:', 'fact check:', 'interview:', '[salon]', '[forbes]', 'news wrap:', '[national] -', 'authorities:', 'officials:', 'news brief:', 'watch:', 'watch live:', 'breaking:', 'the latest:']\n",
    "    df['title'] = df['title'].apply(lambda x: presplit(x, other_prefixes))\n",
    "    other_postfixes = ['| february 24, 2021', '[ap]', '(ap)', ': coronavirus updates']\n",
    "    df['title'] = df['title'].apply(lambda x: postsplit(x, other_postfixes))\n",
    "    \n",
    "    df = df[df['title'].str.contains('savedyouaclick', regex=False) == False]\n",
    "    df = df[df['title'] != '']\n",
    "    \n",
    "    df.drop_duplicates(subset='title', inplace=True)\n",
    "    df = df[df['score'] >= threshold]\n",
    "    df = df[['created_utc', 'title']]\n",
    "    df['created_utc'] = pd.to_datetime(df['created_utc'], unit='s')\n",
    "    df['clickbait'] = clickbait\n",
    "    \n",
    "    return df\n",
    "\n",
    "def presplit(title, prefixes):\n",
    "    for pre in prefixes:\n",
    "        if title.startswith(pre):\n",
    "            return title.split(pre)[1].strip()\n",
    "    \n",
    "    return title\n",
    "    \n",
    "def postsplit(title, postfixes):\n",
    "    for post in postfixes:\n",
    "        if title.endswith(post):\n",
    "            return title.split(post)[0].strip()\n",
    "    \n",
    "    return title"
   ]
  },
  {
   "cell_type": "code",
   "execution_count": null,
   "id": "06f31848",
   "metadata": {
    "scrolled": false
   },
   "outputs": [],
   "source": [
    "# load clickbait sources\n",
    "clickbait = load_csv('data/clickbait.csv.gz', 1, 5)\n",
    "clickbait = clickbait[clickbait['title'].str.contains('|', regex=False)]\n",
    "clickbait['title'] = clickbait['title'].str.split('|').str[0].str.strip()\n",
    "clickbait = clickbait[clickbait['title'] != '']\n",
    "clickbait.drop_duplicates(subset='title', inplace=True)\n",
    "#display(clickbait)\n",
    "\n",
    "# load non-clickbait sources\n",
    "apnews = load_csv('data/apnews.csv.gz', 0, 0)\n",
    "npr = load_csv('data/npr.csv.gz', 0, 0)\n",
    "pbs = load_csv('data/pbs.csv.gz', 0, 0)\n",
    "reuters = load_csv('data/reuters.csv.gz', 0, 0)\n",
    "news = pd.concat([apnews, reuters, npr, pbs], ignore_index=True)\n",
    "#display(news)\n",
    "\n",
    "# ensure balance between clickbait and non-clickbait entries\n",
    "clickbait = clickbait.sample(min(clickbait.shape[0], news.shape[0]), ignore_index=True)\n",
    "news = news.sample(min(clickbait.shape[0], news.shape[0]), ignore_index=True)\n",
    "#display(clickbait)\n",
    "#display(news)"
   ]
  },
  {
   "cell_type": "code",
   "execution_count": null,
   "id": "ba4ef481",
   "metadata": {},
   "outputs": [],
   "source": [
    "# combine clickbait and news datasets\n",
    "data = pd.concat([clickbait, news], ignore_index=True)\n",
    "data = data.sample(frac=1, ignore_index=True)\n",
    "#display(data)"
   ]
  },
  {
   "cell_type": "code",
   "execution_count": null,
   "id": "55fb7faf",
   "metadata": {},
   "outputs": [],
   "source": [
    "data.to_csv('data/filtered.csv.gz', index=False, compression=\"gzip\")"
   ]
  },
  {
   "cell_type": "code",
   "execution_count": null,
   "id": "d159b4bf",
   "metadata": {},
   "outputs": [],
   "source": []
  }
 ],
 "metadata": {
  "kernelspec": {
   "display_name": "Python 3 (ipykernel)",
   "language": "python",
   "name": "python3"
  },
  "language_info": {
   "codemirror_mode": {
    "name": "ipython",
    "version": 3
   },
   "file_extension": ".py",
   "mimetype": "text/x-python",
   "name": "python",
   "nbconvert_exporter": "python",
   "pygments_lexer": "ipython3",
   "version": "3.10.2"
  }
 },
 "nbformat": 4,
 "nbformat_minor": 5
}
